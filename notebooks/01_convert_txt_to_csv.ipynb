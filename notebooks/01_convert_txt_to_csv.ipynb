{
 "cells": [
  {
   "cell_type": "code",
   "execution_count": 1,
   "id": "d3ec1fae-4749-4afd-9aff-50e563b363d2",
   "metadata": {},
   "outputs": [],
   "source": [
    "import pandas as pd\n",
    "import matplotlib.pyplot as plt\n",
    "import random\n",
    "\n",
    "pd.set_option('display.max_columns', None)\n",
    "pd.set_option('display.max_rows', None)\n",
    "\n",
    "random.seed(42)\n",
    "\n",
    "PATH_TO_DATA = '../data/'"
   ]
  },
  {
   "cell_type": "markdown",
   "id": "de5fb680",
   "metadata": {},
   "source": [
    "### Slice verbatim.txt and convert to CSV"
   ]
  },
  {
   "cell_type": "code",
   "execution_count": null,
   "id": "2ac9dc38",
   "metadata": {},
   "outputs": [],
   "source": [
    "original_verbatim_file = PATH_TO_DATA + 'raw/verbatim.txt'\n",
    "original_verbatim_df = pd.read_csv(original_verbatim_file, delimiter='\\t', low_memory=False)\n",
    "relevant_columns = ['gbifID', 'eventDate', 'continent', 'country', 'stateProvince', 'decimalLatitude', 'decimalLongitude', 'scientificName', 'vernacularName', 'higherClassification', 'family']\n",
    "original_verbatim_df_slice = original_verbatim_df[relevant_columns]\n",
    "original_verbatim_df_slice.to_csv(PATH_TO_DATA + 'processed/single_csv/verbatim.csv', index=False)\n",
    "original_verbatim_df_slice.head(3)"
   ]
  },
  {
   "cell_type": "markdown",
   "id": "5ff49f65",
   "metadata": {},
   "source": [
    "##### Display moths in original dataset"
   ]
  },
  {
   "cell_type": "code",
   "execution_count": null,
   "id": "4f35938a",
   "metadata": {},
   "outputs": [],
   "source": [
    "moths = original_verbatim_df[original_verbatim_df['family'] == 'Tineidae']\n",
    "print(moths.shape)\n",
    "moths.head(3)"
   ]
  },
  {
   "cell_type": "markdown",
   "id": "12692571-31d7-489e-afa8-0f23ab3dde6e",
   "metadata": {},
   "source": [
    "### Slice multimedia.txt and convert to CSV"
   ]
  },
  {
   "cell_type": "code",
   "execution_count": null,
   "id": "9e8995f9-9d29-4fc0-9905-1dda946eb484",
   "metadata": {},
   "outputs": [],
   "source": [
    "original_multimedia_file = PATH_TO_DATA + 'raw/multimedia.txt'\n",
    "original_multimedia_df =  pd.read_csv(multimedia_file, delimiter='\\t', low_memory=False)\n",
    "original_multimedia_df_slice = original_multimedia_df[['gbifID', 'format', 'identifier']]\n",
    "# selected_slice.to_csv(PATH_TO_DATA + 'processed/single_csv/multimedia.csv', index=False)\n",
    "original_multimedia_df_slice.head(3)"
   ]
  }
 ],
 "metadata": {
  "kernelspec": {
   "display_name": "Python 3 (ipykernel)",
   "language": "python",
   "name": "python3"
  },
  "language_info": {
   "codemirror_mode": {
    "name": "ipython",
    "version": 3
   },
   "file_extension": ".py",
   "mimetype": "text/x-python",
   "name": "python",
   "nbconvert_exporter": "python",
   "pygments_lexer": "ipython3",
   "version": "3.12.7"
  }
 },
 "nbformat": 4,
 "nbformat_minor": 5
}
