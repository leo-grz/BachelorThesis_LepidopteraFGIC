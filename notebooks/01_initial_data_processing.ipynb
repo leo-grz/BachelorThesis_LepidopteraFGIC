{
 "cells": [
  {
   "cell_type": "code",
   "execution_count": 4,
   "id": "d3ec1fae-4749-4afd-9aff-50e563b363d2",
   "metadata": {},
   "outputs": [],
   "source": [
    "import pandas as pd # type: ignore\n",
    "import matplotlib.pyplot as plt # type: ignore\n",
    "import random\n",
    "\n",
    "pd.set_option('display.max_columns', None)\n",
    "pd.set_option('display.max_rows', None)\n",
    "\n",
    "random.seed(42)\n",
    "\n",
    "path_to_raw = '../data/raw/'\n",
    "path_to_processed = '../data/processed/'\n"
   ]
  },
  {
   "cell_type": "markdown",
   "id": "de5fb680",
   "metadata": {},
   "source": [
    "### Display Head of original Dataset"
   ]
  },
  {
   "cell_type": "code",
   "execution_count": 5,
   "id": "2ac9dc38",
   "metadata": {},
   "outputs": [],
   "source": [
    "original_verbatim = path_to_raw + 'verbatim.txt'\n",
    "# original_verbatim_data = pd.read_csv(original_verbatim, delimiter='\\t', low_memory=False)\n",
    "# original_verbatim_df = pd.DataFrame(original_verbatim_data)\n",
    "# selected_slice = original_verbatim_df[['gbifID', 'scientificName', 'taxonID']]\n",
    "# selected_slice.head(10)"
   ]
  },
  {
   "cell_type": "markdown",
   "id": "06d2679d-83ee-4c8f-bb9f-3fb0389874ef",
   "metadata": {},
   "source": [
    "### convert and slice occurences.txt"
   ]
  },
  {
   "cell_type": "code",
   "execution_count": 6,
   "id": "d61205c5-699a-44b7-99aa-ab3d7250445e",
   "metadata": {},
   "outputs": [],
   "source": [
    "occurrence_file = path_to_raw + 'occurrence.txt'\n",
    "# occurrence_data =  pd.read_csv(occurrence_file, delimiter='\\t', low_memory=False)"
   ]
  },
  {
   "cell_type": "code",
   "execution_count": 7,
   "id": "74ad3cd0-55f1-4604-98e4-01e2b17a460d",
   "metadata": {},
   "outputs": [],
   "source": [
    "# df_occurrence = pd.DataFrame(occurrence_data)\n",
    "# selected_slice = df_occurrence[['gbifID', 'level0Name', 'level1Name', 'references']]\n",
    "# # selected_slice.to_csv('BA_DATASETS/DS1/processed_datasetV1/occurrence.csv', index=False)\n",
    "# df_occurrence"
   ]
  },
  {
   "cell_type": "markdown",
   "id": "98aa6f9e-9511-4b51-9aee-3254757ee1c6",
   "metadata": {},
   "source": [
    "### convert and slice verbatim.txt"
   ]
  },
  {
   "cell_type": "code",
   "execution_count": 8,
   "id": "2563dd04-f229-4da8-8fd4-b6a2003de3ce",
   "metadata": {},
   "outputs": [],
   "source": [
    "verbatim_file = path_to_raw + 'verbatim.txt'\n",
    "# verbatim_data =  pd.read_csv(verbatim_file, delimiter='\\t', low_memory=False)"
   ]
  },
  {
   "cell_type": "code",
   "execution_count": 9,
   "id": "c80c633b-0679-4eae-81b8-c4a132607308",
   "metadata": {},
   "outputs": [],
   "source": [
    "# df_verbatim = pd.DataFrame(verbatim_data)\n",
    "# selected_slice = df_verbatim[['gbifID', 'eventDate', 'country', 'stateProvince', 'decimalLatitude', 'decimalLongitude', 'scientificName', 'higherClassification']]\n",
    "# selected_slice.to_csv('BA_DATASETS/DS1/processed_datasetV1/verbatim.csv', index=False)"
   ]
  },
  {
   "cell_type": "markdown",
   "id": "12692571-31d7-489e-afa8-0f23ab3dde6e",
   "metadata": {},
   "source": [
    "### convert and slice multimedia.txt"
   ]
  },
  {
   "cell_type": "code",
   "execution_count": 10,
   "id": "9e8995f9-9d29-4fc0-9905-1dda946eb484",
   "metadata": {},
   "outputs": [],
   "source": [
    "multimedia_file = path_to_raw + 'multimedia.txt'\n",
    "# multimedia_data =  pd.read_csv(multimedia_file, delimiter='\\t', low_memory=False)"
   ]
  },
  {
   "cell_type": "code",
   "execution_count": 11,
   "id": "56eebb72-b29d-440a-b95b-885b70ffbda3",
   "metadata": {},
   "outputs": [],
   "source": [
    "# df_multimedia = pd.DataFrame(multimedia_data)\n",
    "# selected_slice = df_verbatim[['gbifID', 'format', 'identifier']]\n",
    "# selected_slice.to_csv('BA_DATASETS/DS1/processed_datasetV1/multimedia.csv', index=False)\n",
    "# df_multimedia"
   ]
  },
  {
   "cell_type": "markdown",
   "id": "5f7a6931-6270-4cf1-823d-87bae07990be",
   "metadata": {},
   "source": [
    "# analyzing target variable"
   ]
  },
  {
   "cell_type": "code",
   "execution_count": 12,
   "id": "e4cab068-552e-4c81-9f2e-9285daed5ceb",
   "metadata": {},
   "outputs": [],
   "source": [
    "verbatim_file = path_to_processed + 'single_csv/verbatim.csv'\n",
    "data = pd.read_csv(verbatim_file, low_memory=False)"
   ]
  },
  {
   "cell_type": "code",
   "execution_count": 13,
   "id": "f7728e5e-6458-49fb-afa4-d0addce0de9c",
   "metadata": {},
   "outputs": [
    {
     "data": {
      "text/html": [
       "<div>\n",
       "<style scoped>\n",
       "    .dataframe tbody tr th:only-of-type {\n",
       "        vertical-align: middle;\n",
       "    }\n",
       "\n",
       "    .dataframe tbody tr th {\n",
       "        vertical-align: top;\n",
       "    }\n",
       "\n",
       "    .dataframe thead th {\n",
       "        text-align: right;\n",
       "    }\n",
       "</style>\n",
       "<table border=\"1\" class=\"dataframe\">\n",
       "  <thead>\n",
       "    <tr style=\"text-align: right;\">\n",
       "      <th></th>\n",
       "      <th>gbifID</th>\n",
       "      <th>eventDate</th>\n",
       "      <th>country</th>\n",
       "      <th>stateProvince</th>\n",
       "      <th>decimalLatitude</th>\n",
       "      <th>decimalLongitude</th>\n",
       "      <th>scientificName</th>\n",
       "      <th>higherClassification</th>\n",
       "    </tr>\n",
       "  </thead>\n",
       "  <tbody>\n",
       "    <tr>\n",
       "      <th>0</th>\n",
       "      <td>4888478881</td>\n",
       "      <td>2017-10-16</td>\n",
       "      <td>Spain</td>\n",
       "      <td>Huesca</td>\n",
       "      <td>42.141713</td>\n",
       "      <td>0.362053</td>\n",
       "      <td>Petrophora convergata</td>\n",
       "      <td>Animalia|Geometridae</td>\n",
       "    </tr>\n",
       "    <tr>\n",
       "      <th>1</th>\n",
       "      <td>4888478983</td>\n",
       "      <td>2024-04-08</td>\n",
       "      <td>Germany</td>\n",
       "      <td>Nordrhein-Westfalen</td>\n",
       "      <td>50.798703</td>\n",
       "      <td>6.139380</td>\n",
       "      <td>Aglais io</td>\n",
       "      <td>Animalia|Nymphalidae</td>\n",
       "    </tr>\n",
       "    <tr>\n",
       "      <th>2</th>\n",
       "      <td>2844302871</td>\n",
       "      <td>2018-06-17</td>\n",
       "      <td>Germany</td>\n",
       "      <td>Rheinland-Pfalz</td>\n",
       "      <td>49.820400</td>\n",
       "      <td>6.920900</td>\n",
       "      <td>Pyrausta despicata</td>\n",
       "      <td>Animalia|Crambidae</td>\n",
       "    </tr>\n",
       "    <tr>\n",
       "      <th>3</th>\n",
       "      <td>4888479068</td>\n",
       "      <td>2018-06-17</td>\n",
       "      <td>Spain</td>\n",
       "      <td>Girona</td>\n",
       "      <td>42.247835</td>\n",
       "      <td>2.910465</td>\n",
       "      <td>Maniola jurtina</td>\n",
       "      <td>Animalia|Nymphalidae</td>\n",
       "    </tr>\n",
       "    <tr>\n",
       "      <th>4</th>\n",
       "      <td>4888479085</td>\n",
       "      <td>2018-06-30</td>\n",
       "      <td>Spain</td>\n",
       "      <td>Castellón</td>\n",
       "      <td>40.637359</td>\n",
       "      <td>-0.340129</td>\n",
       "      <td>Pyrausta despicata</td>\n",
       "      <td>Animalia|Crambidae</td>\n",
       "    </tr>\n",
       "  </tbody>\n",
       "</table>\n",
       "</div>"
      ],
      "text/plain": [
       "       gbifID   eventDate  country        stateProvince  decimalLatitude  \\\n",
       "0  4888478881  2017-10-16    Spain               Huesca        42.141713   \n",
       "1  4888478983  2024-04-08  Germany  Nordrhein-Westfalen        50.798703   \n",
       "2  2844302871  2018-06-17  Germany      Rheinland-Pfalz        49.820400   \n",
       "3  4888479068  2018-06-17    Spain               Girona        42.247835   \n",
       "4  4888479085  2018-06-30    Spain            Castellón        40.637359   \n",
       "\n",
       "   decimalLongitude         scientificName  higherClassification  \n",
       "0          0.362053  Petrophora convergata  Animalia|Geometridae  \n",
       "1          6.139380              Aglais io  Animalia|Nymphalidae  \n",
       "2          6.920900     Pyrausta despicata    Animalia|Crambidae  \n",
       "3          2.910465        Maniola jurtina  Animalia|Nymphalidae  \n",
       "4         -0.340129     Pyrausta despicata    Animalia|Crambidae  "
      ]
     },
     "execution_count": 13,
     "metadata": {},
     "output_type": "execute_result"
    }
   ],
   "source": [
    "data.head()"
   ]
  },
  {
   "cell_type": "code",
   "execution_count": 14,
   "id": "a24d46c9-a42b-48c2-b65d-400171df09dd",
   "metadata": {},
   "outputs": [
    {
     "data": {
      "text/plain": [
       "count             3674060\n",
       "unique               7664\n",
       "top       Pararge aegeria\n",
       "freq                75939\n",
       "Name: scientificName, dtype: object"
      ]
     },
     "execution_count": 14,
     "metadata": {},
     "output_type": "execute_result"
    }
   ],
   "source": [
    "data['scientificName'].describe()"
   ]
  },
  {
   "cell_type": "code",
   "execution_count": 15,
   "id": "5be9327c-b8ea-40a8-85b0-e5d15736eefc",
   "metadata": {},
   "outputs": [
    {
     "name": "stdout",
     "output_type": "stream",
     "text": [
      "Amount of different species with more than 10000 occurrences: 76\n",
      "Amount of different species with more than 5000 occurrences: 166\n",
      "Amount of different species with more than 4000 occurrences: 208\n",
      "Amount of different species with more than 3000 occurrences: 277\n",
      "Amount of different species with more than 2000 occurrences: 387\n",
      "Amount of different species with more than 1000 occurrences: 589\n"
     ]
    }
   ],
   "source": [
    "species_counts = data['scientificName'].value_counts()\n",
    "for max in [10000, 5000, 4000, 3000, 2000, 1000]: print(f'Amount of different species with more than {max} occurrences: {len(species_counts[species_counts > max])}')"
   ]
  },
  {
   "cell_type": "code",
   "execution_count": null,
   "id": "d878396a-3735-41dc-973b-6f49ae052257",
   "metadata": {},
   "outputs": [
    {
     "data": {
      "image/png": "[encoded data removed]",
      "text/plain": [
       "<Figure size 1000x600 with 1 Axes>"
      ]
     },
     "metadata": {},
     "output_type": "display_data"
    }
   ],
   "source": [
    "species_counts_sorted = species_counts.sort_values(ascending=False)\n",
    "cumulative_occurrences = species_counts_sorted.cumsum()\n",
    "cumulative_species = range(1, len(species_counts_sorted) + 1)\n",
    "\n",
    "plt.figure(figsize=(10, 6))\n",
    "plt.plot(cumulative_species, cumulative_occurrences, color='black', lw=2)\n",
    "plt.axvline(x=76, color='r', lw=1, linestyle='--', \n",
    "            label=f'76 Classes w  >10k Samples (Total: {cumulative_occurrences.iloc[75]} | {100*cumulative_occurrences.iloc[75]/cumulative_occurrences.iloc[-1]:.2f}%)')\n",
    "plt.axvline(x=166, color='g', lw=1, linestyle='--', \n",
    "            label=f'166 Classes w  >5k Samples (Total: {cumulative_occurrences.iloc[166]}  | {100*cumulative_occurrences.iloc[166]/cumulative_occurrences.iloc[-1]:.2f}%)')\n",
    "plt.axvline(x=589, color='b', lw=1, linestyle='--', \n",
    "            label=f'589 Classes w  >1k Samples (Total: {cumulative_occurrences.iloc[588]}  | {100*cumulative_occurrences.iloc[588]/cumulative_occurrences.iloc[-1]:.2f}%)')\n",
    "\n",
    "plt.title('Kumulativer Plot: Anzahl der Vorkommen vs. Anzahl der Spezies (totale Zahlen)')\n",
    "plt.xlabel('Anzahl der Spezies (kumulativ)')\n",
    "plt.ylabel('Anzahl der Vorkommen (kumulativ)')\n",
    "plt.legend()\n",
    "plt.grid(True)\n",
    "plt.show()"
   ]
  },
  {
   "cell_type": "markdown",
   "id": "1aa12706-21ee-4d4e-8f57-884d0b748b11",
   "metadata": {},
   "source": [
    "### Download for starting test-data-set (top20x50):\n",
    "- 20 species with most occurrences\n",
    "- 50 images per species\n",
    "- 1000 images in total\n",
    "- each image can be identified through gbifID"
   ]
  },
  {
   "cell_type": "code",
   "execution_count": 17,
   "id": "5dd7372a-7e1b-42ad-be47-19f518436338",
   "metadata": {},
   "outputs": [
    {
     "data": {
      "text/plain": [
       "Index(['Pararge aegeria', 'Vanessa atalanta', 'Noctua pronuba', 'Aglais io',\n",
       "       'Lycaena phlaeas', 'Polyommatus icarus', 'Autographa gamma',\n",
       "       'Pieris napi', 'Maniola jurtina', 'Pieris rapae', 'Polygonia c-album',\n",
       "       'Cydalima perspectalis', 'Coenonympha pamphilus', 'Aglais urticae',\n",
       "       'Gonepteryx rhamni', 'Peribatodes rhomboidaria', 'Araschnia levana',\n",
       "       'Celastrina argiolus', 'Camptogramma bilineata', 'Vanessa cardui'],\n",
       "      dtype='object', name='scientificName')"
      ]
     },
     "execution_count": 17,
     "metadata": {},
     "output_type": "execute_result"
    }
   ],
   "source": [
    "species_for_ds = species_counts.head(20).keys()\n",
    "species_for_ds"
   ]
  },
  {
   "cell_type": "code",
   "execution_count": 33,
   "id": "e9305009-6e4e-47f4-b18d-481da5c619cb",
   "metadata": {},
   "outputs": [],
   "source": [
    "gbifID_blacklist = [1966132886, 4459520332] # seed hinzufügen bei random sampeling?, gbifID blacklist\n",
    "selected_species = species_counts.head(20).keys()\n",
    "selected_data = {'gbifID': [], 'scientificName': []}\n",
    "\n",
    "for species in selected_species:\n",
    "    species_ids = data[data['scientificName'] == species]['gbifID'].tolist()\n",
    "\n",
    "    valid_species_ids = [id for id in species_ids if id not in gbifID_blacklist]\n",
    "    \n",
    "    if len(valid_species_ids) >= 50:\n",
    "        selected = random.sample(species_ids, 50)\n",
    "    \n",
    "    # Füge die ausgewählten IDs zur Liste hinzu\n",
    "    for gbifID in selected:\n",
    "        selected_data['gbifID'].append(gbifID)\n",
    "        selected_data['scientificName'].append(species)\n",
    "\n",
    "\n",
    "selected_df = pd.DataFrame(selected_data)\n",
    "\n"
   ]
  },
  {
   "cell_type": "code",
   "execution_count": 34,
   "id": "1a5be134-0e67-463e-a3bf-01648c4ac5e1",
   "metadata": {},
   "outputs": [],
   "source": [
    "output_file = path_to_processed + 'testing_datasetV2.csv'\n",
    "# selected_df.to_csv(output_file, index=False)"
   ]
  },
  {
   "cell_type": "markdown",
   "id": "c6114c95",
   "metadata": {},
   "source": [
    "### Full (unprocessed) Dataset of all species with more than 1000 Samples\n",
    "- roughly 3.2 million samples\n",
    "- 589 most common species\n",
    "- each image can be identified through gbifID"
   ]
  },
  {
   "cell_type": "code",
   "execution_count": 35,
   "id": "96733823-96ad-4b9f-8a38-a0a4e2bf0446",
   "metadata": {},
   "outputs": [
    {
     "name": "stdout",
     "output_type": "stream",
     "text": [
      "(3227305, 2)\n"
     ]
    },
    {
     "data": {
      "text/html": [
       "<div>\n",
       "<style scoped>\n",
       "    .dataframe tbody tr th:only-of-type {\n",
       "        vertical-align: middle;\n",
       "    }\n",
       "\n",
       "    .dataframe tbody tr th {\n",
       "        vertical-align: top;\n",
       "    }\n",
       "\n",
       "    .dataframe thead th {\n",
       "        text-align: right;\n",
       "    }\n",
       "</style>\n",
       "<table border=\"1\" class=\"dataframe\">\n",
       "  <thead>\n",
       "    <tr style=\"text-align: right;\">\n",
       "      <th></th>\n",
       "      <th>gbifID</th>\n",
       "      <th>scientificName</th>\n",
       "    </tr>\n",
       "  </thead>\n",
       "  <tbody>\n",
       "    <tr>\n",
       "      <th>0</th>\n",
       "      <td>4888674839</td>\n",
       "      <td>Pararge aegeria</td>\n",
       "    </tr>\n",
       "    <tr>\n",
       "      <th>1</th>\n",
       "      <td>4888993245</td>\n",
       "      <td>Pararge aegeria</td>\n",
       "    </tr>\n",
       "    <tr>\n",
       "      <th>2</th>\n",
       "      <td>4889363161</td>\n",
       "      <td>Pararge aegeria</td>\n",
       "    </tr>\n",
       "    <tr>\n",
       "      <th>3</th>\n",
       "      <td>4889424824</td>\n",
       "      <td>Pararge aegeria</td>\n",
       "    </tr>\n",
       "    <tr>\n",
       "      <th>4</th>\n",
       "      <td>4889425249</td>\n",
       "      <td>Pararge aegeria</td>\n",
       "    </tr>\n",
       "  </tbody>\n",
       "</table>\n",
       "</div>"
      ],
      "text/plain": [
       "       gbifID   scientificName\n",
       "0  4888674839  Pararge aegeria\n",
       "1  4888993245  Pararge aegeria\n",
       "2  4889363161  Pararge aegeria\n",
       "3  4889424824  Pararge aegeria\n",
       "4  4889425249  Pararge aegeria"
      ]
     },
     "execution_count": 35,
     "metadata": {},
     "output_type": "execute_result"
    }
   ],
   "source": [
    "selected_species = species_counts.head(589).keys()\n",
    "selected_data = {'gbifID': [], 'scientificName': []}\n",
    "\n",
    "for species in selected_species:\n",
    "    species_ids = data[data['scientificName'] == species]['gbifID'].tolist()\n",
    "    \n",
    "    for gbifID in species_ids:\n",
    "        selected_data['gbifID'].append(gbifID)\n",
    "        selected_data['scientificName'].append(species)\n",
    "\n",
    "\n",
    "selected_df = pd.DataFrame(selected_data)\n",
    "\n",
    "print(selected_df.shape)\n",
    "selected_df.head(5)\n",
    "\n"
   ]
  },
  {
   "cell_type": "code",
   "execution_count": null,
   "id": "31642347",
   "metadata": {},
   "outputs": [],
   "source": [
    "output_file = path_to_processed + 'full_dataset_top589.csv'\n",
    "# selected_df.to_csv(output_file, index=False)"
   ]
  }
 ],
 "metadata": {
  "kernelspec": {
   "display_name": "Python 3",
   "language": "python",
   "name": "python3"
  },
  "language_info": {
   "codemirror_mode": {
    "name": "ipython",
    "version": 3
   },
   "file_extension": ".py",
   "mimetype": "text/x-python",
   "name": "python",
   "nbconvert_exporter": "python",
   "pygments_lexer": "ipython3",
   "version": "3.12.7"
  }
 },
 "nbformat": 4,
 "nbformat_minor": 5
}
