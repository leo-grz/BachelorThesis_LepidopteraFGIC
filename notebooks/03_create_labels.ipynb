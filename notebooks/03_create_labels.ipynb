{
 "cells": [
  {
   "cell_type": "markdown",
   "metadata": {},
   "source": [
    "### Setup for this download file\n",
    "- implement logging (should be able to open logging file while program is running)\n",
    "    - timestamp, image, success?\n",
    "- not time.sleep, but just do it every half second\n",
    "- import random"
   ]
  },
  {
   "cell_type": "code",
   "execution_count": 2,
   "metadata": {},
   "outputs": [],
   "source": [
    "import pandas as pd\n",
    "import time\n",
    "\n",
    "path_to_processed = '../data/processed/'\n"
   ]
  },
  {
   "cell_type": "code",
   "execution_count": 3,
   "metadata": {},
   "outputs": [
    {
     "data": {
      "text/html": [
       "<div>\n",
       "<style scoped>\n",
       "    .dataframe tbody tr th:only-of-type {\n",
       "        vertical-align: middle;\n",
       "    }\n",
       "\n",
       "    .dataframe tbody tr th {\n",
       "        vertical-align: top;\n",
       "    }\n",
       "\n",
       "    .dataframe thead th {\n",
       "        text-align: right;\n",
       "    }\n",
       "</style>\n",
       "<table border=\"1\" class=\"dataframe\">\n",
       "  <thead>\n",
       "    <tr style=\"text-align: right;\">\n",
       "      <th></th>\n",
       "      <th>gbifID</th>\n",
       "      <th>eventDate</th>\n",
       "      <th>country</th>\n",
       "      <th>stateProvince</th>\n",
       "      <th>decimalLatitude</th>\n",
       "      <th>decimalLongitude</th>\n",
       "      <th>scientificName</th>\n",
       "      <th>higherClassification</th>\n",
       "    </tr>\n",
       "  </thead>\n",
       "  <tbody>\n",
       "    <tr>\n",
       "      <th>0</th>\n",
       "      <td>4888478881</td>\n",
       "      <td>2017-10-16</td>\n",
       "      <td>Spain</td>\n",
       "      <td>Huesca</td>\n",
       "      <td>42.141713</td>\n",
       "      <td>0.362053</td>\n",
       "      <td>Petrophora convergata</td>\n",
       "      <td>Animalia|Geometridae</td>\n",
       "    </tr>\n",
       "    <tr>\n",
       "      <th>1</th>\n",
       "      <td>4888478983</td>\n",
       "      <td>2024-04-08</td>\n",
       "      <td>Germany</td>\n",
       "      <td>Nordrhein-Westfalen</td>\n",
       "      <td>50.798703</td>\n",
       "      <td>6.139380</td>\n",
       "      <td>Aglais io</td>\n",
       "      <td>Animalia|Nymphalidae</td>\n",
       "    </tr>\n",
       "    <tr>\n",
       "      <th>2</th>\n",
       "      <td>2844302871</td>\n",
       "      <td>2018-06-17</td>\n",
       "      <td>Germany</td>\n",
       "      <td>Rheinland-Pfalz</td>\n",
       "      <td>49.820400</td>\n",
       "      <td>6.920900</td>\n",
       "      <td>Pyrausta despicata</td>\n",
       "      <td>Animalia|Crambidae</td>\n",
       "    </tr>\n",
       "  </tbody>\n",
       "</table>\n",
       "</div>"
      ],
      "text/plain": [
       "       gbifID   eventDate  country        stateProvince  decimalLatitude  \\\n",
       "0  4888478881  2017-10-16    Spain               Huesca        42.141713   \n",
       "1  4888478983  2024-04-08  Germany  Nordrhein-Westfalen        50.798703   \n",
       "2  2844302871  2018-06-17  Germany      Rheinland-Pfalz        49.820400   \n",
       "\n",
       "   decimalLongitude         scientificName  higherClassification  \n",
       "0          0.362053  Petrophora convergata  Animalia|Geometridae  \n",
       "1          6.139380              Aglais io  Animalia|Nymphalidae  \n",
       "2          6.920900     Pyrausta despicata    Animalia|Crambidae  "
      ]
     },
     "execution_count": 3,
     "metadata": {},
     "output_type": "execute_result"
    }
   ],
   "source": [
    "verbatim_file = path_to_processed + 'single_csv/verbatim.csv'\n",
    "\n",
    "verbatim = pd.read_csv(verbatim_file, low_memory=False)\n",
    "verbatim_df = pd.DataFrame(verbatim)\n",
    "verbatim_df.head(3)"
   ]
  },
  {
   "cell_type": "code",
   "execution_count": 4,
   "metadata": {},
   "outputs": [
    {
     "data": {
      "text/html": [
       "<div>\n",
       "<style scoped>\n",
       "    .dataframe tbody tr th:only-of-type {\n",
       "        vertical-align: middle;\n",
       "    }\n",
       "\n",
       "    .dataframe tbody tr th {\n",
       "        vertical-align: top;\n",
       "    }\n",
       "\n",
       "    .dataframe thead th {\n",
       "        text-align: right;\n",
       "    }\n",
       "</style>\n",
       "<table border=\"1\" class=\"dataframe\">\n",
       "  <thead>\n",
       "    <tr style=\"text-align: right;\">\n",
       "      <th></th>\n",
       "      <th>gbifID</th>\n",
       "      <th>format</th>\n",
       "      <th>identifier</th>\n",
       "    </tr>\n",
       "  </thead>\n",
       "  <tbody>\n",
       "    <tr>\n",
       "      <th>0</th>\n",
       "      <td>1950935083</td>\n",
       "      <td>image/jpeg</td>\n",
       "      <td>https://observation.org/photos/8126181.jpg</td>\n",
       "    </tr>\n",
       "    <tr>\n",
       "      <th>1</th>\n",
       "      <td>1950946982</td>\n",
       "      <td>image/jpeg</td>\n",
       "      <td>https://observation.org/photos/8125216.jpg</td>\n",
       "    </tr>\n",
       "    <tr>\n",
       "      <th>2</th>\n",
       "      <td>1950947337</td>\n",
       "      <td>image/jpeg</td>\n",
       "      <td>https://observation.org/photos/8125217.jpg</td>\n",
       "    </tr>\n",
       "  </tbody>\n",
       "</table>\n",
       "</div>"
      ],
      "text/plain": [
       "       gbifID      format                                  identifier\n",
       "0  1950935083  image/jpeg  https://observation.org/photos/8126181.jpg\n",
       "1  1950946982  image/jpeg  https://observation.org/photos/8125216.jpg\n",
       "2  1950947337  image/jpeg  https://observation.org/photos/8125217.jpg"
      ]
     },
     "execution_count": 4,
     "metadata": {},
     "output_type": "execute_result"
    }
   ],
   "source": [
    "multimedia_file = path_to_processed + 'single_csv/multimedia.csv'\n",
    "\n",
    "multimedia = pd.read_csv(multimedia_file, low_memory=False)\n",
    "multimedia_df = pd.DataFrame(multimedia)\n",
    "multimedia_df.head(3)"
   ]
  },
  {
   "cell_type": "code",
   "execution_count": 5,
   "metadata": {},
   "outputs": [
    {
     "data": {
      "text/plain": [
       "scientificName\n",
       "Pararge aegeria     75939\n",
       "Vanessa atalanta    61570\n",
       "Noctua pronuba      50457\n",
       "Aglais io           49595\n",
       "Lycaena phlaeas     47993\n",
       "Name: count, dtype: int64"
      ]
     },
     "execution_count": 5,
     "metadata": {},
     "output_type": "execute_result"
    }
   ],
   "source": [
    "species_counts = verbatim_df['scientificName'].value_counts().sort_values(ascending=False)\n",
    "species_counts.head(5)"
   ]
  },
  {
   "cell_type": "code",
   "execution_count": 6,
   "metadata": {},
   "outputs": [
    {
     "name": "stdout",
     "output_type": "stream",
     "text": [
      "Amount of classes with more than 1000 occurrences: 589\n"
     ]
    }
   ],
   "source": [
    "print(f'Amount of classes with more than 1000 occurrences: {len(species_counts[species_counts > 1000])}')"
   ]
  },
  {
   "cell_type": "code",
   "execution_count": 7,
   "metadata": {},
   "outputs": [
    {
     "name": "stdout",
     "output_type": "stream",
     "text": [
      "589\n"
     ]
    }
   ],
   "source": [
    "top589species = species_counts.head(589).keys()\n",
    "print(len(top589species))"
   ]
  },
  {
   "cell_type": "code",
   "execution_count": 14,
   "metadata": {},
   "outputs": [
    {
     "name": "stdout",
     "output_type": "stream",
     "text": [
      "830000\n",
      "979956\n",
      "Amount of samples to download with max 5000 images per species: 1809956\n"
     ]
    }
   ],
   "source": [
    "# Die anzahl der Samples zu downloaden wenn man die Anzahl auf 5000 pro spezies beschränkt\n",
    "species_counts = species_counts.head(589)\n",
    "large_species_samples = len(species_counts[species_counts > 5000]) * 5000\n",
    "print(large_species_samples)\n",
    "small_species_samples = species_counts[species_counts < 5000].sum()\n",
    "print(small_species_samples)\n",
    "print(f\"Amount of samples to download with \" \\\n",
    "            f\"max 5000 images per species: {large_species_samples + small_species_samples}\")"
   ]
  },
  {
   "cell_type": "code",
   "execution_count": null,
   "metadata": {},
   "outputs": [
    {
     "data": {
      "text/html": [
       "<div>\n",
       "<style scoped>\n",
       "    .dataframe tbody tr th:only-of-type {\n",
       "        vertical-align: middle;\n",
       "    }\n",
       "\n",
       "    .dataframe tbody tr th {\n",
       "        vertical-align: top;\n",
       "    }\n",
       "\n",
       "    .dataframe thead th {\n",
       "        text-align: right;\n",
       "    }\n",
       "</style>\n",
       "<table border=\"1\" class=\"dataframe\">\n",
       "  <thead>\n",
       "    <tr style=\"text-align: right;\">\n",
       "      <th></th>\n",
       "      <th>gbifID</th>\n",
       "      <th>scientificName</th>\n",
       "      <th>identifier</th>\n",
       "    </tr>\n",
       "  </thead>\n",
       "  <tbody>\n",
       "    <tr>\n",
       "      <th>0</th>\n",
       "      <td>4888478881</td>\n",
       "      <td>Petrophora convergata</td>\n",
       "      <td>https://observation.org/photos/87123955.jpg</td>\n",
       "    </tr>\n",
       "    <tr>\n",
       "      <th>1</th>\n",
       "      <td>4888478983</td>\n",
       "      <td>Aglais io</td>\n",
       "      <td>https://observation.org/photos/87147547.jpg</td>\n",
       "    </tr>\n",
       "    <tr>\n",
       "      <th>2</th>\n",
       "      <td>4888478983</td>\n",
       "      <td>Aglais io</td>\n",
       "      <td>https://observation.org/photos/87147548.jpg</td>\n",
       "    </tr>\n",
       "  </tbody>\n",
       "</table>\n",
       "</div>"
      ],
      "text/plain": [
       "       gbifID         scientificName  \\\n",
       "0  4888478881  Petrophora convergata   \n",
       "1  4888478983              Aglais io   \n",
       "2  4888478983              Aglais io   \n",
       "\n",
       "                                    identifier  \n",
       "0  https://observation.org/photos/87123955.jpg  \n",
       "1  https://observation.org/photos/87147547.jpg  \n",
       "2  https://observation.org/photos/87147548.jpg  "
      ]
     },
     "execution_count": 24,
     "metadata": {},
     "output_type": "execute_result"
    }
   ],
   "source": [
    "merged_df = pd.merge(verbatim[['gbifID', 'scientificName']], multimedia[['gbifID', 'identifier']], on='gbifID')\n",
    "merged_df.head(3)"
   ]
  },
  {
   "cell_type": "code",
   "execution_count": null,
   "metadata": {},
   "outputs": [
    {
     "data": {
      "text/html": [
       "<div>\n",
       "<style scoped>\n",
       "    .dataframe tbody tr th:only-of-type {\n",
       "        vertical-align: middle;\n",
       "    }\n",
       "\n",
       "    .dataframe tbody tr th {\n",
       "        vertical-align: top;\n",
       "    }\n",
       "\n",
       "    .dataframe thead th {\n",
       "        text-align: right;\n",
       "    }\n",
       "</style>\n",
       "<table border=\"1\" class=\"dataframe\">\n",
       "  <thead>\n",
       "    <tr style=\"text-align: right;\">\n",
       "      <th></th>\n",
       "      <th>gbifID</th>\n",
       "      <th>scientificName</th>\n",
       "      <th>identifier</th>\n",
       "    </tr>\n",
       "  </thead>\n",
       "  <tbody>\n",
       "    <tr>\n",
       "      <th>0</th>\n",
       "      <td>4888478881</td>\n",
       "      <td>Petrophora convergata</td>\n",
       "      <td>https://observation.org/photos/87123955.jpg</td>\n",
       "    </tr>\n",
       "    <tr>\n",
       "      <th>1</th>\n",
       "      <td>4888478983</td>\n",
       "      <td>Aglais io</td>\n",
       "      <td>https://observation.org/photos/87147547.jpg</td>\n",
       "    </tr>\n",
       "    <tr>\n",
       "      <th>4</th>\n",
       "      <td>2844302871</td>\n",
       "      <td>Pyrausta despicata</td>\n",
       "      <td>https://observation.org/photos/17332900.jpg</td>\n",
       "    </tr>\n",
       "  </tbody>\n",
       "</table>\n",
       "</div>"
      ],
      "text/plain": [
       "       gbifID         scientificName  \\\n",
       "0  4888478881  Petrophora convergata   \n",
       "1  4888478983              Aglais io   \n",
       "4  2844302871     Pyrausta despicata   \n",
       "\n",
       "                                    identifier  \n",
       "0  https://observation.org/photos/87123955.jpg  \n",
       "1  https://observation.org/photos/87147547.jpg  \n",
       "4  https://observation.org/photos/17332900.jpg  "
      ]
     },
     "execution_count": 25,
     "metadata": {},
     "output_type": "execute_result"
    }
   ],
   "source": [
    "merged_df = merged_df.drop_duplicates(subset=['gbifID']) # reduce to single occ per gbifID\n",
    "merged_df.head(3)"
   ]
  },
  {
   "cell_type": "code",
   "execution_count": null,
   "metadata": {},
   "outputs": [
    {
     "name": "stdout",
     "output_type": "stream",
     "text": [
      "(1809956, 3)\n"
     ]
    },
    {
     "data": {
      "text/plain": [
       "scientificName\n",
       "Udea ferrugalis            5000\n",
       "Tyria jacobaeae            5000\n",
       "Zygaena filipendulae       5000\n",
       "Triodia sylvina            5000\n",
       "Tortrix viridana           5000\n",
       "                           ... \n",
       "Parornix spec.             1006\n",
       "Hypomecis roboraria        1004\n",
       "Eupithecia tripunctaria    1004\n",
       "Glaucopsyche alexis        1002\n",
       "Cerastis rubricosa         1001\n",
       "Name: count, Length: 589, dtype: int64"
      ]
     },
     "execution_count": 28,
     "metadata": {},
     "output_type": "execute_result"
    }
   ],
   "source": [
    "# Group by 'scientificName'\n",
    "grouped = merged_df.groupby('scientificName')\n",
    "\n",
    "# Initialize a list to hold the filtered DataFrames\n",
    "filtered_dfs = []\n",
    "\n",
    "for name, group in grouped:\n",
    "    sample_size = len(group)\n",
    "    if sample_size >= 5000:\n",
    "        sampled = group.sample(n=5000, random_state=42) # classes with more than 5000 samples get reduced to 5000\n",
    "        filtered_dfs.append(sampled)\n",
    "    elif 1000 <= sample_size < 5000: # classes between 1000 and 5000 stay unchanged\n",
    "        filtered_dfs.append(group)\n",
    "    # Classes with less than 1000 samples are skipped\n",
    "\n",
    "# Concatenate the filtered DataFrames\n",
    "final_df = pd.concat(filtered_dfs)\n",
    "print(final_df.shape)\n",
    "final_df['scientificName'].value_counts()"
   ]
  },
  {
   "cell_type": "code",
   "execution_count": null,
   "metadata": {},
   "outputs": [],
   "source": [
    "# save dataset to file\n",
    "# final_df.to_csv(path_to_processed + 'dataset_top589_max5000.csv', index=False)"
   ]
  }
 ],
 "metadata": {
  "kernelspec": {
   "display_name": "Python 3",
   "language": "python",
   "name": "python3"
  },
  "language_info": {
   "codemirror_mode": {
    "name": "ipython",
    "version": 3
   },
   "file_extension": ".py",
   "mimetype": "text/x-python",
   "name": "python",
   "nbconvert_exporter": "python",
   "pygments_lexer": "ipython3",
   "version": "3.12.7"
  }
 },
 "nbformat": 4,
 "nbformat_minor": 2
}
