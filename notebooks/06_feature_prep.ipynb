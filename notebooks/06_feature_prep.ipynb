{
 "cells": [
  {
   "cell_type": "code",
   "execution_count": 13,
   "metadata": {},
   "outputs": [],
   "source": [
    "import numpy as np \n",
    "import pandas as pd \n",
    "import sys\n",
    "import os\n",
    "\n",
    "sys.path.append(os.path.abspath(os.path.join('..', 'src')))\n",
    "from lepidoptera_dataset import LepidopteraDataset, get_labelencoding\n",
    "from utils_helpers import show_sample, check_folder_exists, save_features, load_features\n",
    "\n",
    "PATH_TO_DATA = \"/home/lgierz/BA_MothClassification/data/\"\n",
    "PATH_TO_FEATURES = PATH_TO_DATA + 'processed/features/'\n",
    "\n"
   ]
  },
  {
   "cell_type": "code",
   "execution_count": 3,
   "metadata": {},
   "outputs": [
    {
     "name": "stdout",
     "output_type": "stream",
     "text": [
      "Attributes of feature file Nr:  1\n",
      "Features and labels loaded from /home/lgierz/BA_MothClassification/data/processed/features/features_DINOv2_top589_max3000_File1.npz\n",
      "220000 (220000, 1536) 92 220000\n",
      "Attributes of feature file Nr:  2\n",
      "Features and labels loaded from /home/lgierz/BA_MothClassification/data/processed/features/features_DINOv2_top589_max3000_File2.npz\n",
      "760000 (760000, 1536) 325 760000\n",
      "Attributes of feature file Nr:  3\n",
      "Features and labels loaded from /home/lgierz/BA_MothClassification/data/processed/features/features_DINOv2_top589_max3000_File3.npz\n",
      "407808 (407808, 1536) 174 407808\n"
     ]
    }
   ],
   "source": [
    "feature_file1 = PATH_TO_FEATURES + 'features_DINOv2_top589_max3000_File1.npz'\n",
    "feature_file2 = PATH_TO_FEATURES + 'features_DINOv2_top589_max3000_File2.npz'\n",
    "feature_file3 = PATH_TO_FEATURES + 'features_DINOv2_top589_max3000_File3.npz'\n",
    "\n",
    "for idx, file in enumerate([feature_file1, feature_file2, feature_file3], start=1):\n",
    "    print('Attributes of feature file Nr: ', idx)\n",
    "    f, l, g = load_features(file)\n",
    "    print(len(f), f.shape, len(set(l)), len(set(g)))\n"
   ]
  },
  {
   "cell_type": "code",
   "execution_count": 6,
   "metadata": {},
   "outputs": [
    {
     "name": "stdout",
     "output_type": "stream",
     "text": [
      "Features and labels loaded from /home/lgierz/BA_MothClassification/data/processed/features/features_DINOv2_top589_max3000_File1.npz\n",
      "Features and labels loaded from /home/lgierz/BA_MothClassification/data/processed/features/features_DINOv2_top589_max3000_File2.npz\n",
      "Features and labels loaded from /home/lgierz/BA_MothClassification/data/processed/features/features_DINOv2_top589_max3000_File3.npz\n",
      "Features and labels saved to DINOv2_Features_Full.npz\n"
     ]
    }
   ],
   "source": [
    "feature_file1 = PATH_TO_FEATURES + 'features_DINOv2_top589_max3000_File1.npz'\n",
    "feature_file2 = PATH_TO_FEATURES + 'features_DINOv2_top589_max3000_File2.npz'\n",
    "feature_file3 = PATH_TO_FEATURES + 'features_DINOv2_top589_max3000_File3.npz'\n",
    "\n",
    "f1, l1, g1 = load_features(feature_file1)\n",
    "f2, l2, g2 = load_features(feature_file2)\n",
    "f3, l3, g3 = load_features(feature_file3)\n",
    "\n",
    "features = np.concatenate((f1, f2, f3), axis=0) \n",
    "labels = np.concatenate((l1, l2, l3), axis=0) \n",
    "gbifids = np.concatenate((g1, g2, g3), axis=0)\n",
    "\n",
    "save_features(features, labels, gbifids, 'DINOv2_Features_Full.npz')\n"
   ]
  },
  {
   "cell_type": "code",
   "execution_count": 8,
   "metadata": {},
   "outputs": [
    {
     "name": "stdout",
     "output_type": "stream",
     "text": [
      "Features and labels loaded from /home/lgierz/BA_MothClassification/data/processed/features/DINOv2_Features_Full.npz\n",
      "1387808 (1387808, 1536) 325 1387808\n"
     ]
    }
   ],
   "source": [
    "f, l, g = load_features(PATH_TO_FEATURES + 'DINOv2_Features_Full.npz')\n",
    "print(len(f), f.shape, len(set(l)), len(set(g)))\n"
   ]
  },
  {
   "cell_type": "code",
   "execution_count": 4,
   "metadata": {},
   "outputs": [],
   "source": [
    "DATASET = PATH_TO_FEATURES + 'dataset_top589_max3000_fex_statusupdate.csv'\n",
    "\n",
    "csv_file = pd.read_csv(DATASET)\n",
    "csv_file['status'] = csv_file['status'].astype('str')\n",
    "csv_file_filtered = csv_file[csv_file['status'].isin(['DFEX1'])]"
   ]
  },
  {
   "cell_type": "markdown",
   "metadata": {},
   "source": [
    "### Correct labels using gbifid and original csv file"
   ]
  },
  {
   "cell_type": "code",
   "execution_count": 14,
   "metadata": {},
   "outputs": [],
   "source": [
    "def update_labels(features, gbifids, df, output_file): \n",
    "    label_mapping = df.set_index('gbifID')['scientificName'].to_dict() \n",
    "    # Map scientific names to integers \n",
    "    encoding = get_labelencoding(df)\n",
    "    # Update the labels based on the encoding \n",
    "    new_labels = np.array([encoding[label_mapping[gbifid]] for gbifid in gbifids]) \n",
    "    # Save the updated features and labels \n",
    "    save_features(features, new_labels, gbifids, output_file)\n",
    "\n"
   ]
  },
  {
   "cell_type": "code",
   "execution_count": 15,
   "metadata": {},
   "outputs": [
    {
     "name": "stdout",
     "output_type": "stream",
     "text": [
      "Features and labels saved to /home/lgierz/BA_MothClassification/data/processed/features/DINOv2_Features_Full_CorrectlyLabeled.npz\n"
     ]
    }
   ],
   "source": [
    "new_feature_file = PATH_TO_FEATURES + 'DINOv2_Features_Full_CorrectlyLabeled.npz'\n",
    "update_labels(f,g, csv_file_filtered, new_feature_file)"
   ]
  },
  {
   "cell_type": "code",
   "execution_count": 18,
   "metadata": {},
   "outputs": [
    {
     "name": "stdout",
     "output_type": "stream",
     "text": [
      "Features and labels loaded from /home/lgierz/BA_MothClassification/data/processed/features/DINOv2_Features_Full_CorrectlyLabeled.npz\n",
      "1387808 (1387808, 1536) 589 1387808\n"
     ]
    }
   ],
   "source": [
    "f, l, g = load_features(PATH_TO_FEATURES + 'DINOv2_Features_Full_CorrectlyLabeled.npz')\n",
    "print(len(f), f.shape, len(set(l)), len(set(g)))"
   ]
  },
  {
   "cell_type": "markdown",
   "metadata": {},
   "source": [
    "### Create feature datasets"
   ]
  },
  {
   "cell_type": "code",
   "execution_count": 20,
   "metadata": {},
   "outputs": [
    {
     "name": "stdout",
     "output_type": "stream",
     "text": [
      "Features and labels loaded from /home/lgierz/BA_MothClassification/data/processed/features/DINOv2_Features_Full_CorrectlyLabeled.npz\n",
      "Features and labels saved to /home/lgierz/BA_MothClassification/data/processed/cv_datasets/dino_feature_dataset_top277_max3000.npz\n",
      "Labels: 277 | gbifIDs: 830870 | Samples: 830870 | Saved to: /home/lgierz/BA_MothClassification/data/processed/cv_datasets/dino_feature_dataset_top277_max3000.npz\n",
      "Features and labels saved to /home/lgierz/BA_MothClassification/data/processed/cv_datasets/dino_feature_dataset_top277_max2000.npz\n",
      "Labels: 277 | gbifIDs: 554000 | Samples: 554000 | Saved to: /home/lgierz/BA_MothClassification/data/processed/cv_datasets/dino_feature_dataset_top277_max2000.npz\n",
      "Features and labels saved to /home/lgierz/BA_MothClassification/data/processed/cv_datasets/dino_feature_dataset_top277_max1000.npz\n",
      "Labels: 277 | gbifIDs: 277000 | Samples: 277000 | Saved to: /home/lgierz/BA_MothClassification/data/processed/cv_datasets/dino_feature_dataset_top277_max1000.npz\n",
      "Features and labels saved to /home/lgierz/BA_MothClassification/data/processed/cv_datasets/dino_feature_dataset_top277_max500.npz\n",
      "Labels: 277 | gbifIDs: 138500 | Samples: 138500 | Saved to: /home/lgierz/BA_MothClassification/data/processed/cv_datasets/dino_feature_dataset_top277_max500.npz\n",
      "Features and labels saved to /home/lgierz/BA_MothClassification/data/processed/cv_datasets/dino_feature_dataset_top387_max2000.npz\n",
      "Labels: 387 | gbifIDs: 774000 | Samples: 774000 | Saved to: /home/lgierz/BA_MothClassification/data/processed/cv_datasets/dino_feature_dataset_top387_max2000.npz\n",
      "Features and labels saved to /home/lgierz/BA_MothClassification/data/processed/cv_datasets/dino_feature_dataset_top387_max1000.npz\n",
      "Labels: 387 | gbifIDs: 387000 | Samples: 387000 | Saved to: /home/lgierz/BA_MothClassification/data/processed/cv_datasets/dino_feature_dataset_top387_max1000.npz\n",
      "Features and labels saved to /home/lgierz/BA_MothClassification/data/processed/cv_datasets/dino_feature_dataset_top387_max500.npz\n",
      "Labels: 387 | gbifIDs: 193500 | Samples: 193500 | Saved to: /home/lgierz/BA_MothClassification/data/processed/cv_datasets/dino_feature_dataset_top387_max500.npz\n",
      "Features and labels saved to /home/lgierz/BA_MothClassification/data/processed/cv_datasets/dino_feature_dataset_top589_max1000.npz\n",
      "Labels: 589 | gbifIDs: 588999 | Samples: 588999 | Saved to: /home/lgierz/BA_MothClassification/data/processed/cv_datasets/dino_feature_dataset_top589_max1000.npz\n",
      "Features and labels saved to /home/lgierz/BA_MothClassification/data/processed/cv_datasets/dino_feature_dataset_top589_max500.npz\n",
      "Labels: 589 | gbifIDs: 294500 | Samples: 294500 | Saved to: /home/lgierz/BA_MothClassification/data/processed/cv_datasets/dino_feature_dataset_top589_max500.npz\n"
     ]
    }
   ],
   "source": [
    "import numpy as np\n",
    "import pandas as pd\n",
    "\n",
    "# Dataset configuration\n",
    "dataset_configs = {\n",
    "    'top277': (277, [3000, 2000, 1000, 500]),\n",
    "    'top387': (387, [2000, 1000, 500]),\n",
    "    'top589': (589, [1000, 500])\n",
    "}\n",
    "\n",
    "# Path to the existing features NPZ file\n",
    "feature_file = PATH_TO_FEATURES + 'DINOv2_Features_Full_CorrectlyLabeled.npz'\n",
    "features, labels, gbifids = load_features(feature_file)\n",
    "\n",
    "# Iterate through dataset configurations\n",
    "for dataset_name, (class_amount, sample_amounts) in dataset_configs.items():\n",
    "    \n",
    "    \n",
    "    # Iterate through the sample amounts\n",
    "    for amount in sample_amounts:\n",
    "\n",
    "        csv_file = PATH_TO_DATA + f'processed/cv_datasets/dataset_top{class_amount}_max{amount}.csv'\n",
    "        dataset_df = pd.read_csv(csv_file)\n",
    "        # Filter dataset based on the number of samples\n",
    "        filtered_gbifids = dataset_df['gbifID'].values \n",
    "        # Filter features, labels, and gbifids based on the filtered gbifIDs \n",
    "        indices = np.isin(gbifids, filtered_gbifids) \n",
    "        new_features = features[indices] \n",
    "        new_labels = labels[indices] \n",
    "        new_gbifids = gbifids[indices] \n",
    "\n",
    "        \n",
    "        # Save the new filtered dataset \n",
    "        output_file = PATH_TO_DATA + f'processed/cv_datasets/dino_feature_dataset_top{class_amount}_max{amount}.npz' \n",
    "        save_features(new_features, new_labels, new_gbifids, output_file) \n",
    "        print(f'Labels: {len(set(new_labels))} | gbifIDs: {len(set(new_gbifids))} | Samples: {len(new_features)} | Saved to: {output_file}')\n"
   ]
  },
  {
   "cell_type": "code",
   "execution_count": null,
   "metadata": {},
   "outputs": [],
   "source": []
  }
 ],
 "metadata": {
  "kernelspec": {
   "display_name": "Python 3",
   "language": "python",
   "name": "python3"
  },
  "language_info": {
   "codemirror_mode": {
    "name": "ipython",
    "version": 3
   },
   "file_extension": ".py",
   "mimetype": "text/x-python",
   "name": "python",
   "nbconvert_exporter": "python",
   "pygments_lexer": "ipython3",
   "version": "3.8.10"
  }
 },
 "nbformat": 4,
 "nbformat_minor": 2
}
