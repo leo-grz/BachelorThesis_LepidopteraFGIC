{
 "cells": [
  {
   "cell_type": "code",
   "execution_count": 1,
   "metadata": {},
   "outputs": [],
   "source": [
    "import time\n",
    "from sklearn.decomposition import PCA\n",
    "from sklearn.manifold import TSNE\n",
    "from umap import UMAP\n",
    "from sklearn.discriminant_analysis import LinearDiscriminantAnalysis\n",
    "from sklearn.decomposition import KernelPCA\n",
    "from sklearn.model_selection import train_test_split\n",
    "from sklearn.neighbors import KNeighborsClassifier\n",
    "from sklearn.metrics import accuracy_score, precision_score, recall_score, f1_score\n",
    "import sys\n",
    "import os\n",
    "import logging\n",
    "import torch\n",
    "from torch import nn\n",
    "import numpy as np\n",
    "import pandas as pd\n",
    "# import cuml\n",
    "# from cuml.manifold import UMAP\n",
    "\n",
    "\n",
    "\n",
    "sys.path.append(os.path.abspath(os.path.join('..', 'src')))\n",
    "from utils import check_folder_exists, load_features, save_features\n"
   ]
  },
  {
   "cell_type": "code",
   "execution_count": 7,
   "metadata": {},
   "outputs": [],
   "source": [
    "\n",
    "PATH_TO_DATA = '/home/lgierz/BA_MothClassification/data/'\n",
    "PATH_TO_FEATURES = PATH_TO_DATA + 'processed/features/'\n",
    "PATH_TO_LOGFILE = PATH_TO_DATA + 'status/hyperparameter_tuning_resnet_chunky.log'\n",
    "feature_file = PATH_TO_DATA + 'processed/cv_datasets/resnet_feature_dataset_top277_max3000.npz' \n",
    "csv_file_path = PATH_TO_DATA + 'status/hyperparameter_tuning_resnet_chunky.csv'\n",
    "\n",
    "folds = 5\n",
    "model_names = [\"Linear Classifier\", \"KNN\"]\n",
    "\n",
    "config = {\n",
    "    'pca__reduced_fe_size': [256,512,1024],\n",
    "\n",
    "\n",
    "    'umap__reduced_fe_size': [32,64,128,256,512,1024],\n",
    "    'umap__neighbors': [10,50,100,300,500],\n",
    "    'umap__leaf_size': [10,50,100],\n",
    "\n",
    "\n",
    "    'linear__learning_rate': [0.1, 0.01, 0.001, 0.0001],\n",
    "    'linear__epochs': [250,500,750,1000,1500],\n",
    "\n",
    "\n",
    "    'knn__neighbors': [10,50,100,300,500,700,1000],\n",
    "}"
   ]
  },
  {
   "cell_type": "code",
   "execution_count": 4,
   "metadata": {},
   "outputs": [],
   "source": [
    "logging.basicConfig(\n",
    "    filename=PATH_TO_LOGFILE,\n",
    "    level=logging.INFO,\n",
    "    format='[%(asctime)s][%(levelname)s] - %(message)s',\n",
    ")\n",
    "\n",
    "console_handler = logging.StreamHandler() \n",
    "console_handler.setLevel(logging.INFO) \n",
    "console_handler.setFormatter(logging.Formatter('[%(asctime)s][%(levelname)s] - %(message)s')) \n",
    "logger = logging.getLogger() \n",
    "logger.addHandler(console_handler)"
   ]
  },
  {
   "cell_type": "code",
   "execution_count": 5,
   "metadata": {},
   "outputs": [
    {
     "name": "stdout",
     "output_type": "stream",
     "text": [
      "Features and labels loaded from /home/lgierz/BA_MothClassification/data/processed/cv_datasets/resnet_feature_dataset_top277_max3000.npz\n",
      "Lowest label: 2, highest label: 588, unique labels in training ds: 277, unique labels in testing ds: 277\n"
     ]
    }
   ],
   "source": [
    "features, labels, _ = load_features(feature_file)\n",
    "\n",
    "X_train, X_test, y_train, y_test = train_test_split(features, labels, test_size=0.2, random_state=42, stratify=labels)\n",
    "\n",
    "print(f'Lowest label: {np.min(y_train)}, highest label: {np.max(y_train)}, unique labels in training ds: {len(np.unique(y_train))}, unique labels in testing ds: {len(np.unique(y_test))}')\n",
    "\n",
    "# fix missing labels due to dataset splitting by changing label to ascending order\n",
    "label_mapping = {label: idx for idx, label in enumerate(np.unique(labels))}\n",
    "y_train = np.array([label_mapping[label] for label in y_train]) # since labels are not in ascending order, remapping is necessary\n",
    "y_test = np.array([label_mapping[label] for label in y_test])\n",
    "\n",
    "device = torch.device(\"cuda\" if torch.cuda.is_available() else \"cpu\")"
   ]
  },
  {
   "cell_type": "code",
   "execution_count": 10,
   "metadata": {},
   "outputs": [],
   "source": [
    "\n",
    "\n",
    "\n",
    "# TODO:\n",
    "# - limit to important tests\n",
    "# - add other feature reduction tests\n",
    "# - separate feature reduction tests from other tests?\n",
    "\n",
    "\n",
    "def handle_results(csv_path, test, pred, method, model, params, reduction_time, training_time, neighbors=None, lr=None, epochs=None, losses=None, accuracies=None):\n",
    "    acc = accuracy_score(test, pred)\n",
    "    prec = precision_score(test, pred, average='weighted')\n",
    "    rec = recall_score(test, pred, average='weighted')\n",
    "    f1 = f1_score(test, pred, average='weighted')\n",
    "\n",
    "    # Store Results\n",
    "    run_results = {\n",
    "        \"Method\": method,\n",
    "        \"Model\": model,\n",
    "        \"Parameters\": params,\n",
    "        \"Reduction Time (s)\": round(reduction_time, 2),\n",
    "        \"Training Time (s)\": round(training_time, 2),\n",
    "        \"Accuracy\": round(acc, 4),\n",
    "        \"Precision\": round(prec, 4),\n",
    "        \"Recall\": round(rec, 4),\n",
    "        \"F1-Score\": round(f1, 4),\n",
    "        \"Neighbors\": neighbors if model == 'KNN' else None,\n",
    "        \"Learning Rate\": lr if model == \"Linear Classifier\" else None,\n",
    "        \"Epochs\": epochs if model == \"Linear Classifier\" else None,\n",
    "        \"Epoch Losses\": losses if model == \"Linear Classifier\" else None,\n",
    "        \"Epoch Accuracies\": accuracies if model == \"Linear Classifier\" else None\n",
    "    }\n",
    "    # Convert the dictionary to a DataFrame\n",
    "    results_df = pd.DataFrame([run_results])  # Wrap in a list to create a DataFrame with one row\n",
    "    if not os.path.isfile(csv_path):\n",
    "        results_df.to_csv(csv_path, index=False)\n",
    "    else:\n",
    "        results_df.to_csv(csv_path, mode='a', header=False, index=False)\n",
    "\n",
    "    logging.info(f\"[{run_results['Method']} ({run_results['Parameters']})][{run_results['Model']}] Reduction time: {run_results['Reduction Time (s)']}s, Training time: {run_results['Training Time (s)']}s, Accuracy: {run_results['Accuracy']}, Precision: {run_results['Precision']}, Recall: {run_results['Recall']}, F1-Score: {run_results['F1-Score']}\")\n",
    "\n",
    "\n",
    "class LinearClassifier(nn.Module):\n",
    "    def __init__(self, input_dim, num_classes): \n",
    "        super(LinearClassifier, self).__init__() \n",
    "        self.fc = nn.Linear(input_dim, num_classes) \n",
    "        \n",
    "    def forward(self, x): \n",
    "        \treturn self.fc(x)"
   ]
  },
  {
   "cell_type": "code",
   "execution_count": null,
   "metadata": {},
   "outputs": [
    {
     "name": "stdout",
     "output_type": "stream",
     "text": [
      "Applying PCA...\n",
      "SHAPES: normal train: (664696, 2048) | reduced train: (664696, 256)\n",
      "SHAPES: normal test: (166174, 2048) | reduced test: (166174, 256)\n",
      "Training Linear Classifier with PCA feature embeddings [LR: 0.1 | Epochs: 250]\n"
     ]
    },
    {
     "name": "stderr",
     "output_type": "stream",
     "text": [
      "[2024-12-19 14:13:30,218][INFO] - [PCA ({'n_components': 256, 'random_state': 42})][Linear Classifier] Reduction time: 42.02s, Training time: 13.23s, Accuracy: 0.6692, Precision: 0.6665, Recall: 0.6692, F1-Score: 0.6672\n"
     ]
    },
    {
     "name": "stdout",
     "output_type": "stream",
     "text": [
      "Training Linear Classifier with PCA feature embeddings [LR: 0.01 | Epochs: 250]\n"
     ]
    },
    {
     "name": "stderr",
     "output_type": "stream",
     "text": [
      "[2024-12-19 14:13:43,434][INFO] - [PCA ({'n_components': 256, 'random_state': 42})][Linear Classifier] Reduction time: 42.02s, Training time: 12.96s, Accuracy: 0.6614, Precision: 0.6592, Recall: 0.6614, F1-Score: 0.6595\n"
     ]
    },
    {
     "name": "stdout",
     "output_type": "stream",
     "text": [
      "Training Linear Classifier with PCA feature embeddings [LR: 0.001 | Epochs: 250]\n"
     ]
    },
    {
     "name": "stderr",
     "output_type": "stream",
     "text": [
      "[2024-12-19 14:13:56,669][INFO] - [PCA ({'n_components': 256, 'random_state': 42})][Linear Classifier] Reduction time: 42.02s, Training time: 12.97s, Accuracy: 0.5475, Precision: 0.5463, Recall: 0.5475, F1-Score: 0.5431\n"
     ]
    },
    {
     "name": "stdout",
     "output_type": "stream",
     "text": [
      "Training Linear Classifier with PCA feature embeddings [LR: 0.0001 | Epochs: 250]\n"
     ]
    },
    {
     "name": "stderr",
     "output_type": "stream",
     "text": [
      "[2024-12-19 14:14:09,965][INFO] - [PCA ({'n_components': 256, 'random_state': 42})][Linear Classifier] Reduction time: 42.02s, Training time: 13.02s, Accuracy: 0.1963, Precision: 0.2074, Recall: 0.1963, F1-Score: 0.1809\n"
     ]
    },
    {
     "name": "stdout",
     "output_type": "stream",
     "text": [
      "Training Linear Classifier with PCA feature embeddings [LR: 0.1 | Epochs: 500]\n"
     ]
    },
    {
     "name": "stderr",
     "output_type": "stream",
     "text": [
      "[2024-12-19 14:14:36,321][INFO] - [PCA ({'n_components': 256, 'random_state': 42})][Linear Classifier] Reduction time: 42.02s, Training time: 26.1s, Accuracy: 0.6693, Precision: 0.6666, Recall: 0.6693, F1-Score: 0.6673\n"
     ]
    },
    {
     "name": "stdout",
     "output_type": "stream",
     "text": [
      "Training Linear Classifier with PCA feature embeddings [LR: 0.01 | Epochs: 500]\n"
     ]
    },
    {
     "name": "stderr",
     "output_type": "stream",
     "text": [
      "[2024-12-19 14:15:03,466][INFO] - [PCA ({'n_components': 256, 'random_state': 42})][Linear Classifier] Reduction time: 42.02s, Training time: 26.88s, Accuracy: 0.6664, Precision: 0.6638, Recall: 0.6664, F1-Score: 0.6644\n"
     ]
    },
    {
     "name": "stdout",
     "output_type": "stream",
     "text": [
      "Training Linear Classifier with PCA feature embeddings [LR: 0.001 | Epochs: 500]\n"
     ]
    },
    {
     "name": "stderr",
     "output_type": "stream",
     "text": [
      "[2024-12-19 14:15:30,025][INFO] - [PCA ({'n_components': 256, 'random_state': 42})][Linear Classifier] Reduction time: 42.02s, Training time: 26.31s, Accuracy: 0.6041, Precision: 0.6024, Recall: 0.6041, F1-Score: 0.6013\n"
     ]
    },
    {
     "name": "stdout",
     "output_type": "stream",
     "text": [
      "Training Linear Classifier with PCA feature embeddings [LR: 0.0001 | Epochs: 500]\n"
     ]
    },
    {
     "name": "stderr",
     "output_type": "stream",
     "text": [
      "[2024-12-19 14:15:56,587][INFO] - [PCA ({'n_components': 256, 'random_state': 42})][Linear Classifier] Reduction time: 42.02s, Training time: 26.31s, Accuracy: 0.3369, Precision: 0.3607, Recall: 0.3369, F1-Score: 0.3233\n"
     ]
    },
    {
     "name": "stdout",
     "output_type": "stream",
     "text": [
      "Training Linear Classifier with PCA feature embeddings [LR: 0.1 | Epochs: 750]\n"
     ]
    },
    {
     "name": "stderr",
     "output_type": "stream",
     "text": [
      "[2024-12-19 14:16:36,322][INFO] - [PCA ({'n_components': 256, 'random_state': 42})][Linear Classifier] Reduction time: 42.02s, Training time: 39.48s, Accuracy: 0.6691, Precision: 0.6666, Recall: 0.6691, F1-Score: 0.6671\n"
     ]
    },
    {
     "name": "stdout",
     "output_type": "stream",
     "text": [
      "Training Linear Classifier with PCA feature embeddings [LR: 0.01 | Epochs: 750]\n"
     ]
    },
    {
     "name": "stderr",
     "output_type": "stream",
     "text": [
      "[2024-12-19 14:17:16,165][INFO] - [PCA ({'n_components': 256, 'random_state': 42})][Linear Classifier] Reduction time: 42.02s, Training time: 39.56s, Accuracy: 0.6678, Precision: 0.6652, Recall: 0.6678, F1-Score: 0.6659\n"
     ]
    },
    {
     "name": "stdout",
     "output_type": "stream",
     "text": [
      "Training Linear Classifier with PCA feature embeddings [LR: 0.001 | Epochs: 750]\n"
     ]
    },
    {
     "name": "stderr",
     "output_type": "stream",
     "text": [
      "[2024-12-19 14:17:56,944][INFO] - [PCA ({'n_components': 256, 'random_state': 42})][Linear Classifier] Reduction time: 42.02s, Training time: 40.52s, Accuracy: 0.6264, Precision: 0.6245, Recall: 0.6264, F1-Score: 0.6241\n"
     ]
    },
    {
     "name": "stdout",
     "output_type": "stream",
     "text": [
      "Training Linear Classifier with PCA feature embeddings [LR: 0.0001 | Epochs: 750]\n"
     ]
    },
    {
     "name": "stderr",
     "output_type": "stream",
     "text": [
      "[2024-12-19 14:18:36,713][INFO] - [PCA ({'n_components': 256, 'random_state': 42})][Linear Classifier] Reduction time: 42.02s, Training time: 39.52s, Accuracy: 0.4059, Precision: 0.4192, Recall: 0.4059, F1-Score: 0.395\n"
     ]
    },
    {
     "name": "stdout",
     "output_type": "stream",
     "text": [
      "Training Linear Classifier with PCA feature embeddings [LR: 0.1 | Epochs: 1000]\n"
     ]
    },
    {
     "name": "stderr",
     "output_type": "stream",
     "text": [
      "[2024-12-19 14:19:29,689][INFO] - [PCA ({'n_components': 256, 'random_state': 42})][Linear Classifier] Reduction time: 42.02s, Training time: 52.7s, Accuracy: 0.669, Precision: 0.6665, Recall: 0.669, F1-Score: 0.6669\n"
     ]
    },
    {
     "name": "stdout",
     "output_type": "stream",
     "text": [
      "Training Linear Classifier with PCA feature embeddings [LR: 0.01 | Epochs: 1000]\n"
     ]
    },
    {
     "name": "stderr",
     "output_type": "stream",
     "text": [
      "[2024-12-19 14:20:22,647][INFO] - [PCA ({'n_components': 256, 'random_state': 42})][Linear Classifier] Reduction time: 42.02s, Training time: 52.7s, Accuracy: 0.6687, Precision: 0.666, Recall: 0.6687, F1-Score: 0.6667\n"
     ]
    },
    {
     "name": "stdout",
     "output_type": "stream",
     "text": [
      "Training Linear Classifier with PCA feature embeddings [LR: 0.001 | Epochs: 1000]\n"
     ]
    },
    {
     "name": "stderr",
     "output_type": "stream",
     "text": [
      "[2024-12-19 14:21:15,664][INFO] - [PCA ({'n_components': 256, 'random_state': 42})][Linear Classifier] Reduction time: 42.02s, Training time: 52.76s, Accuracy: 0.6391, Precision: 0.6371, Recall: 0.6391, F1-Score: 0.6369\n"
     ]
    },
    {
     "name": "stdout",
     "output_type": "stream",
     "text": [
      "Training Linear Classifier with PCA feature embeddings [LR: 0.0001 | Epochs: 1000]\n"
     ]
    },
    {
     "name": "stderr",
     "output_type": "stream",
     "text": [
      "[2024-12-19 14:22:08,629][INFO] - [PCA ({'n_components': 256, 'random_state': 42})][Linear Classifier] Reduction time: 42.02s, Training time: 52.71s, Accuracy: 0.4444, Precision: 0.4536, Recall: 0.4444, F1-Score: 0.4349\n"
     ]
    },
    {
     "name": "stdout",
     "output_type": "stream",
     "text": [
      "Training Linear Classifier with PCA feature embeddings [LR: 0.1 | Epochs: 1500]\n"
     ]
    },
    {
     "name": "stderr",
     "output_type": "stream",
     "text": [
      "[2024-12-19 14:23:30,000][INFO] - [PCA ({'n_components': 256, 'random_state': 42})][Linear Classifier] Reduction time: 42.02s, Training time: 81.12s, Accuracy: 0.6688, Precision: 0.6662, Recall: 0.6688, F1-Score: 0.6666\n"
     ]
    },
    {
     "name": "stdout",
     "output_type": "stream",
     "text": [
      "Training Linear Classifier with PCA feature embeddings [LR: 0.01 | Epochs: 1500]\n"
     ]
    },
    {
     "name": "stderr",
     "output_type": "stream",
     "text": [
      "[2024-12-19 14:24:49,286][INFO] - [PCA ({'n_components': 256, 'random_state': 42})][Linear Classifier] Reduction time: 42.02s, Training time: 79.03s, Accuracy: 0.6691, Precision: 0.6664, Recall: 0.6691, F1-Score: 0.6671\n"
     ]
    },
    {
     "name": "stdout",
     "output_type": "stream",
     "text": [
      "Training Linear Classifier with PCA feature embeddings [LR: 0.001 | Epochs: 1500]\n"
     ]
    },
    {
     "name": "stderr",
     "output_type": "stream",
     "text": [
      "[2024-12-19 14:26:10,366][INFO] - [PCA ({'n_components': 256, 'random_state': 42})][Linear Classifier] Reduction time: 42.02s, Training time: 80.8s, Accuracy: 0.6526, Precision: 0.6506, Recall: 0.6526, F1-Score: 0.6506\n"
     ]
    },
    {
     "name": "stdout",
     "output_type": "stream",
     "text": [
      "Training Linear Classifier with PCA feature embeddings [LR: 0.0001 | Epochs: 1500]\n"
     ]
    },
    {
     "name": "stderr",
     "output_type": "stream",
     "text": [
      "[2024-12-19 14:27:29,610][INFO] - [PCA ({'n_components': 256, 'random_state': 42})][Linear Classifier] Reduction time: 42.02s, Training time: 78.97s, Accuracy: 0.4942, Precision: 0.4943, Recall: 0.4942, F1-Score: 0.4876\n"
     ]
    },
    {
     "name": "stdout",
     "output_type": "stream",
     "text": [
      "Training KNN with PCA feature embeddings [K: 10]\n"
     ]
    }
   ],
   "source": [
    "\n",
    "\n",
    "umap_configs = [\n",
    "    {'n_components': rfs, 'n_neighbors': nn, 'leaf_size': ls, 'random_state': 42}\n",
    "    for rfs in config['umap__reduced_fe_size']\n",
    "    for nn in config['umap__neighbors']\n",
    "    for ls in config['umap__leaf_size']\n",
    "]\n",
    "\n",
    "pca_configs = [\n",
    "    {'n_components': rfs, 'random_state': 42}\n",
    "    for rfs in config['pca__reduced_fe_size']\n",
    "]\n",
    "\n",
    "fe_reduction_configs = {\n",
    "    'PCA': pca_configs,\n",
    "    'UMAP': umap_configs\n",
    "}\n",
    "\n",
    "\n",
    "for reducer_name, param_list in fe_reduction_configs.items():\n",
    "    for params in param_list:\n",
    "        if reducer_name == 'PCA':\n",
    "            reducer = PCA(**params)\n",
    "        elif reducer_name == 'UMAP':\n",
    "            reducer = UMAP(**params)\n",
    "        print(f\"Applying {reducer_name}...\")\n",
    "        start_time = time.time()\n",
    "        X_train_reduced = reducer.fit_transform(X_train)\n",
    "        X_test_reduced = reducer.transform(X_test) if hasattr(reducer, 'transform') else reducer.fit_transform(X_test)\n",
    "        reduction_time = time.time() - start_time\n",
    "\n",
    "        print(f'SHAPES: normal train: {X_train.shape} | reduced train: {X_train_reduced.shape}')\n",
    "        print(f'SHAPES: normal test: {X_test.shape} | reduced test: {X_test_reduced.shape}')\n",
    "\n",
    "        for model_name in model_names:\n",
    "\n",
    "            if model_name == \"Linear Classifier\":\n",
    "                for epochs in config['linear__epochs']:\n",
    "                    for lr in config['linear__learning_rate']:\n",
    "                    \n",
    "                        print(f\"Training {model_name} with {reducer_name} feature embeddings [LR: {lr} | Epochs: {epochs}]\")\n",
    "                        losses, accuracies = [], []\n",
    "                        # PyTorch Model Setup\n",
    "                        input_dim = X_train_reduced.shape[1]\n",
    "                        num_classes = 277\n",
    "\n",
    "                        start_time = time.time()\n",
    "\n",
    "                        linear_model = LinearClassifier(input_dim, num_classes).to(device)\n",
    "                        criterion = nn.CrossEntropyLoss()\n",
    "                        #optimizer = torch.optim.SGD(linear_model.parameters(), lr=0.01)\n",
    "                        optimizer = torch.optim.Adam(linear_model.parameters(), lr=lr)\n",
    "                        X_train_tensor = torch.tensor(X_train_reduced, dtype=torch.float32).to(device)\n",
    "                        y_train_tensor = torch.tensor(y_train, dtype=torch.long).to(device)  # Convert to Long type for CrossEntropyLoss\n",
    "\n",
    "                        for epoch in range(epochs):\n",
    "                            linear_model.train()\n",
    "                            optimizer.zero_grad()\n",
    "\n",
    "                            outputs = linear_model(X_train_tensor)\n",
    "                            loss = criterion(outputs, y_train_tensor)\n",
    "                            loss.backward()\n",
    "                            optimizer.step()\n",
    "\n",
    "                            # calculate accuracy\n",
    "                            _, predicted = torch.max(outputs.data, 1)  # Get the predicted class indices\n",
    "                            correct = (predicted == y_train_tensor).sum().item()  # Count correct predictions\n",
    "                            accuracy = correct / y_train_tensor.size(0)  # Calculate accuracy\n",
    "\n",
    "                            losses.append(round(loss.item(), 4))\n",
    "                            accuracies.append(round(accuracy, 4))\n",
    "\n",
    "                        # Evaluate Linear Classifier\n",
    "                        linear_model.eval()\n",
    "                        X_test_tensor = torch.tensor(X_test_reduced, dtype=torch.float32).to(device)\n",
    "                        y_test_tensor = torch.tensor(y_test, dtype=torch.long).to(device)  # Convert to Long type for evaluation\n",
    "                        with torch.no_grad():\n",
    "                            outputs = linear_model(X_test_tensor)\n",
    "                            _, y_pred = torch.max(outputs, 1)  # Get the predicted class indices\n",
    "                            y_pred_numpy = y_pred.cpu().numpy()\n",
    "\n",
    "                        training_time = time.time() - start_time\n",
    "\n",
    "                        handle_results(csv_file_path, y_test, y_pred_numpy, reducer_name, model_name, \n",
    "                                    params, reduction_time, training_time, neighbors=None, \n",
    "                                    lr=lr, epochs=epochs, accuracies=accuracies, losses=losses)\n",
    "\n",
    "            elif model_name == 'KNN':\n",
    "                for neighbors in config['knn__neighbors']:\n",
    "                    print(f\"Training {model_name} with {reducer_name} feature embeddings [K: {neighbors}]\")\n",
    "                    start_time = time.time()\n",
    "\n",
    "                    model = KNeighborsClassifier(n_neighbors=neighbors)\n",
    "                    model.fit(X_train_reduced, y_train)\n",
    "                    y_pred_numpy = model.predict(X_test_reduced)\n",
    "                    training_time = time.time() - start_time\n",
    "\n",
    "                    handle_results(csv_file_path, y_test, y_pred_numpy, reducer_name, model_name, \n",
    "                                params, reduction_time, training_time, neighbors=neighbors, \n",
    "                                lr=None, epochs=None, accuracies=None, losses=None)\n",
    "\n",
    "            else:\n",
    "                print(f'UNVALID MODEL NAME: {model_name}')\n",
    "                sys.exit(1)\n",
    "\n",
    "\n"
   ]
  },
  {
   "cell_type": "code",
   "execution_count": null,
   "metadata": {},
   "outputs": [],
   "source": [
    "import matplotlib.pyplot as plt\n",
    "\n",
    "for run in results:\n",
    "    loss = [x / run['Epoch Losses'][0] * 100 for x in run['Epoch Losses']]\n",
    "    acc = [x * 100 for x in run['Epoch Accuracies']]\n",
    " \n",
    "    plt.plot(loss)\n",
    "    plt.plot(acc)\n",
    "    plt.show()\n",
    "    plt.close()"
   ]
  },
  {
   "cell_type": "code",
   "execution_count": null,
   "metadata": {},
   "outputs": [],
   "source": []
  },
  {
   "cell_type": "code",
   "execution_count": null,
   "metadata": {},
   "outputs": [],
   "source": [
    "# TODO: OPTUNA\n",
    "https://en.wikipedia.org/wiki/Nonlinear_dimensionality_reduction"
   ]
  }
 ],
 "metadata": {
  "kernelspec": {
   "display_name": "Python 3",
   "language": "python",
   "name": "python3"
  },
  "language_info": {
   "codemirror_mode": {
    "name": "ipython",
    "version": 3
   },
   "file_extension": ".py",
   "mimetype": "text/x-python",
   "name": "python",
   "nbconvert_exporter": "python",
   "pygments_lexer": "ipython3",
   "version": "3.8.10"
  }
 },
 "nbformat": 4,
 "nbformat_minor": 2
}
